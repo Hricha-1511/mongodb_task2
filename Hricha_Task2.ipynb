{
 "cells": [
  {
   "cell_type": "code",
   "execution_count": 12,
   "id": "c71836b2",
   "metadata": {},
   "outputs": [],
   "source": [
    "import pandas as pd\n",
    "import yfinance as yf\n",
    "\n",
    "import pymongo\n",
    "from pymongo import MongoClient\n",
    "\n",
    "icici = yf.Ticker(\"ICICIBANK.NS\")\n",
    "df = icici.history(start='2023-10-15',end=\"2023-10-22\",interval='1m')\n",
    "\n",
    "dates = list(df.index)\n",
    "date_list = []\n",
    "for i in dates:\n",
    "    if(i.time().hour == 11 and i.time().minute > 0):\n",
    "        if(i.time().minute % 15 == 0):\n",
    "            date_list.append(i)\n",
    "\n",
    "    if(i.time().hour >= 12 and i.time().hour < 14): \n",
    "        if(i.time().minute % 15 == 0):\n",
    "            date_list.append(i)\n",
    "            \n",
    "    if(i.time().hour == 14 and i.time().minute <= 15):\n",
    "        if(i.time().minute % 15 == 0):\n",
    "            date_list.append(i)\n",
    "        \n",
    "df = df.loc[date_list]\n",
    "\n",
    "df[\"date_time\"] = df.index\n",
    "\n",
    "client = pymongo.MongoClient(\"mongodb+srv://hricha_1511:<password>@mydata.p7shs2i.mongodb.net/\") ## password removed before submission\n",
    "db = client[\"mydata\"]\n",
    "collection = db[\"stock\"]\n",
    "\n",
    "data = df.to_dict(orient=\"records\")\n",
    "collection.insert_many(data)\n",
    "\n",
    "client.close()"
   ]
  },
  {
   "cell_type": "code",
   "execution_count": null,
   "id": "c852b82d",
   "metadata": {},
   "outputs": [],
   "source": []
  }
 ],
 "metadata": {
  "kernelspec": {
   "display_name": "Python 3 (ipykernel)",
   "language": "python",
   "name": "python3"
  },
  "language_info": {
   "codemirror_mode": {
    "name": "ipython",
    "version": 3
   },
   "file_extension": ".py",
   "mimetype": "text/x-python",
   "name": "python",
   "nbconvert_exporter": "python",
   "pygments_lexer": "ipython3",
   "version": "3.9.16"
  }
 },
 "nbformat": 4,
 "nbformat_minor": 5
}
